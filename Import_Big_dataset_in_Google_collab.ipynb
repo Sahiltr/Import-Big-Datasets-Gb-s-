{
  "nbformat": 4,
  "nbformat_minor": 0,
  "metadata": {
    "colab": {
      "provenance": []
    },
    "kernelspec": {
      "name": "python3",
      "display_name": "Python 3"
    },
    "language_info": {
      "name": "python"
    }
  },
  "cells": [
    {
      "cell_type": "code",
      "execution_count": null,
      "metadata": {
        "id": "Rs6neJUUKDqJ"
      },
      "outputs": [],
      "source": [
        "import pandas as pd"
      ]
    },
    {
      "cell_type": "markdown",
      "source": [
        "First of all u need to create your API token from your Kaggle File and a file will get downloaded.\n",
        "Import that file in your current Notebook and then execute below two line of command"
      ],
      "metadata": {
        "id": "RCxsq47OMwpv"
      }
    },
    {
      "cell_type": "code",
      "source": [
        "!mkdir -p ~/.kaggle\n",
        "!cp kaggle.json ~/.kaggle/"
      ],
      "metadata": {
        "id": "nYrzfKKUKhmZ"
      },
      "execution_count": null,
      "outputs": []
    },
    {
      "cell_type": "markdown",
      "source": [
        "Then you go to the dataset which your want to use in kaggle and Click on copy API command and paste it"
      ],
      "metadata": {
        "id": "0ttcRhudNOfG"
      }
    },
    {
      "cell_type": "code",
      "source": [
        "!kaggle datasets download -d omkargurav/face-mask-dataset"
      ],
      "metadata": {
        "colab": {
          "base_uri": "https://localhost:8080/"
        },
        "id": "pENIq1JHLhWe",
        "outputId": "d5a5d36b-e11c-495e-cde2-5560ba1cb38f"
      },
      "execution_count": null,
      "outputs": [
        {
          "output_type": "stream",
          "name": "stdout",
          "text": [
            "Warning: Your Kaggle API key is readable by other users on this system! To fix this, you can run 'chmod 600 /root/.kaggle/kaggle.json'\n",
            "Downloading face-mask-dataset.zip to /content\n",
            " 93% 152M/163M [00:02<00:00, 111MB/s] \n",
            "100% 163M/163M [00:02<00:00, 83.7MB/s]\n"
          ]
        }
      ]
    },
    {
      "cell_type": "markdown",
      "source": [
        "Now yopur dataset will get imported into your notebook but it will be in zip format.\n",
        "Run below code to get the data from zip file"
      ],
      "metadata": {
        "id": "asKQPu8dNarx"
      }
    },
    {
      "cell_type": "code",
      "source": [
        "import zipfile\n",
        "zip_ref = zipfile.ZipFile('/content/face-mask-dataset.zip','r')\n",
        "zip_ref.extractall('/content')\n",
        "zip_ref.close()"
      ],
      "metadata": {
        "id": "sKGvH61eLsvT"
      },
      "execution_count": null,
      "outputs": []
    },
    {
      "cell_type": "code",
      "source": [],
      "metadata": {
        "id": "x33cgBaoMGHZ"
      },
      "execution_count": null,
      "outputs": []
    }
  ]
}